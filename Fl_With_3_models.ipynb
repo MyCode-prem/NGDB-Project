{
  "nbformat": 4,
  "nbformat_minor": 0,
  "metadata": {
    "colab": {
      "provenance": [],
      "include_colab_link": true
    },
    "kernelspec": {
      "name": "python3",
      "display_name": "Python 3"
    },
    "language_info": {
      "name": "python"
    }
  },
  "cells": [
    {
      "cell_type": "markdown",
      "metadata": {
        "id": "view-in-github",
        "colab_type": "text"
      },
      "source": [
        "<a href=\"https://colab.research.google.com/github/MyCode-prem/NGDB-Project/blob/main/Fl_With_3_models.ipynb\" target=\"_parent\"><img src=\"https://colab.research.google.com/assets/colab-badge.svg\" alt=\"Open In Colab\"/></a>"
      ]
    },
    {
      "cell_type": "markdown",
      "source": [
        "**Federated Learning With 3 Models**\n",
        "\n",
        "1. Linear Regression\n",
        "2. Lasso Regression\n",
        "3. KNN"
      ],
      "metadata": {
        "id": "YVdUHpoOzwGr"
      }
    },
    {
      "cell_type": "code",
      "execution_count": null,
      "metadata": {
        "id": "hRne0TGIvVN5"
      },
      "outputs": [],
      "source": [
        "import pandas as pd\n",
        "import numpy as np\n",
        "from sklearn.preprocessing import StandardScaler\n",
        "from sklearn.model_selection import train_test_split\n",
        "from sklearn.metrics import mean_absolute_error\n"
      ]
    },
    {
      "cell_type": "code",
      "source": [
        "df = pd.read_csv('/content/fl.csv')"
      ],
      "metadata": {
        "id": "bQdzYhRKvldd"
      },
      "execution_count": null,
      "outputs": []
    },
    {
      "cell_type": "code",
      "source": [
        "df.head()"
      ],
      "metadata": {
        "colab": {
          "base_uri": "https://localhost:8080/",
          "height": 206
        },
        "id": "ype_PPRovoSI",
        "outputId": "4f13315f-e9ab-4cfe-bd2e-12b9b5f795f4"
      },
      "execution_count": null,
      "outputs": [
        {
          "output_type": "execute_result",
          "data": {
            "text/plain": [
              "   Distance_to_City_Center   Area(sqft)   Bedrooms   Target\n",
              "0                      5.2         1750          3   345000\n",
              "1                      8.6         2100          4   430000\n",
              "2                      2.1         1500          2   280000\n",
              "3                     12.3         3000          5   600000\n",
              "4                      6.8         2400          4   500000"
            ],
            "text/html": [
              "\n",
              "  <div id=\"df-b285d395-0372-494a-a05a-c9ecdee867e2\" class=\"colab-df-container\">\n",
              "    <div>\n",
              "<style scoped>\n",
              "    .dataframe tbody tr th:only-of-type {\n",
              "        vertical-align: middle;\n",
              "    }\n",
              "\n",
              "    .dataframe tbody tr th {\n",
              "        vertical-align: top;\n",
              "    }\n",
              "\n",
              "    .dataframe thead th {\n",
              "        text-align: right;\n",
              "    }\n",
              "</style>\n",
              "<table border=\"1\" class=\"dataframe\">\n",
              "  <thead>\n",
              "    <tr style=\"text-align: right;\">\n",
              "      <th></th>\n",
              "      <th>Distance_to_City_Center</th>\n",
              "      <th>Area(sqft)</th>\n",
              "      <th>Bedrooms</th>\n",
              "      <th>Target</th>\n",
              "    </tr>\n",
              "  </thead>\n",
              "  <tbody>\n",
              "    <tr>\n",
              "      <th>0</th>\n",
              "      <td>5.2</td>\n",
              "      <td>1750</td>\n",
              "      <td>3</td>\n",
              "      <td>345000</td>\n",
              "    </tr>\n",
              "    <tr>\n",
              "      <th>1</th>\n",
              "      <td>8.6</td>\n",
              "      <td>2100</td>\n",
              "      <td>4</td>\n",
              "      <td>430000</td>\n",
              "    </tr>\n",
              "    <tr>\n",
              "      <th>2</th>\n",
              "      <td>2.1</td>\n",
              "      <td>1500</td>\n",
              "      <td>2</td>\n",
              "      <td>280000</td>\n",
              "    </tr>\n",
              "    <tr>\n",
              "      <th>3</th>\n",
              "      <td>12.3</td>\n",
              "      <td>3000</td>\n",
              "      <td>5</td>\n",
              "      <td>600000</td>\n",
              "    </tr>\n",
              "    <tr>\n",
              "      <th>4</th>\n",
              "      <td>6.8</td>\n",
              "      <td>2400</td>\n",
              "      <td>4</td>\n",
              "      <td>500000</td>\n",
              "    </tr>\n",
              "  </tbody>\n",
              "</table>\n",
              "</div>\n",
              "    <div class=\"colab-df-buttons\">\n",
              "\n",
              "  <div class=\"colab-df-container\">\n",
              "    <button class=\"colab-df-convert\" onclick=\"convertToInteractive('df-b285d395-0372-494a-a05a-c9ecdee867e2')\"\n",
              "            title=\"Convert this dataframe to an interactive table.\"\n",
              "            style=\"display:none;\">\n",
              "\n",
              "  <svg xmlns=\"http://www.w3.org/2000/svg\" height=\"24px\" viewBox=\"0 -960 960 960\">\n",
              "    <path d=\"M120-120v-720h720v720H120Zm60-500h600v-160H180v160Zm220 220h160v-160H400v160Zm0 220h160v-160H400v160ZM180-400h160v-160H180v160Zm440 0h160v-160H620v160ZM180-180h160v-160H180v160Zm440 0h160v-160H620v160Z\"/>\n",
              "  </svg>\n",
              "    </button>\n",
              "\n",
              "  <style>\n",
              "    .colab-df-container {\n",
              "      display:flex;\n",
              "      gap: 12px;\n",
              "    }\n",
              "\n",
              "    .colab-df-convert {\n",
              "      background-color: #E8F0FE;\n",
              "      border: none;\n",
              "      border-radius: 50%;\n",
              "      cursor: pointer;\n",
              "      display: none;\n",
              "      fill: #1967D2;\n",
              "      height: 32px;\n",
              "      padding: 0 0 0 0;\n",
              "      width: 32px;\n",
              "    }\n",
              "\n",
              "    .colab-df-convert:hover {\n",
              "      background-color: #E2EBFA;\n",
              "      box-shadow: 0px 1px 2px rgba(60, 64, 67, 0.3), 0px 1px 3px 1px rgba(60, 64, 67, 0.15);\n",
              "      fill: #174EA6;\n",
              "    }\n",
              "\n",
              "    .colab-df-buttons div {\n",
              "      margin-bottom: 4px;\n",
              "    }\n",
              "\n",
              "    [theme=dark] .colab-df-convert {\n",
              "      background-color: #3B4455;\n",
              "      fill: #D2E3FC;\n",
              "    }\n",
              "\n",
              "    [theme=dark] .colab-df-convert:hover {\n",
              "      background-color: #434B5C;\n",
              "      box-shadow: 0px 1px 3px 1px rgba(0, 0, 0, 0.15);\n",
              "      filter: drop-shadow(0px 1px 2px rgba(0, 0, 0, 0.3));\n",
              "      fill: #FFFFFF;\n",
              "    }\n",
              "  </style>\n",
              "\n",
              "    <script>\n",
              "      const buttonEl =\n",
              "        document.querySelector('#df-b285d395-0372-494a-a05a-c9ecdee867e2 button.colab-df-convert');\n",
              "      buttonEl.style.display =\n",
              "        google.colab.kernel.accessAllowed ? 'block' : 'none';\n",
              "\n",
              "      async function convertToInteractive(key) {\n",
              "        const element = document.querySelector('#df-b285d395-0372-494a-a05a-c9ecdee867e2');\n",
              "        const dataTable =\n",
              "          await google.colab.kernel.invokeFunction('convertToInteractive',\n",
              "                                                    [key], {});\n",
              "        if (!dataTable) return;\n",
              "\n",
              "        const docLinkHtml = 'Like what you see? Visit the ' +\n",
              "          '<a target=\"_blank\" href=https://colab.research.google.com/notebooks/data_table.ipynb>data table notebook</a>'\n",
              "          + ' to learn more about interactive tables.';\n",
              "        element.innerHTML = '';\n",
              "        dataTable['output_type'] = 'display_data';\n",
              "        await google.colab.output.renderOutput(dataTable, element);\n",
              "        const docLink = document.createElement('div');\n",
              "        docLink.innerHTML = docLinkHtml;\n",
              "        element.appendChild(docLink);\n",
              "      }\n",
              "    </script>\n",
              "  </div>\n",
              "\n",
              "\n",
              "<div id=\"df-efb5c159-13e3-4e3e-b98f-b89d2929dab9\">\n",
              "  <button class=\"colab-df-quickchart\" onclick=\"quickchart('df-efb5c159-13e3-4e3e-b98f-b89d2929dab9')\"\n",
              "            title=\"Suggest charts\"\n",
              "            style=\"display:none;\">\n",
              "\n",
              "<svg xmlns=\"http://www.w3.org/2000/svg\" height=\"24px\"viewBox=\"0 0 24 24\"\n",
              "     width=\"24px\">\n",
              "    <g>\n",
              "        <path d=\"M19 3H5c-1.1 0-2 .9-2 2v14c0 1.1.9 2 2 2h14c1.1 0 2-.9 2-2V5c0-1.1-.9-2-2-2zM9 17H7v-7h2v7zm4 0h-2V7h2v10zm4 0h-2v-4h2v4z\"/>\n",
              "    </g>\n",
              "</svg>\n",
              "  </button>\n",
              "\n",
              "<style>\n",
              "  .colab-df-quickchart {\n",
              "      --bg-color: #E8F0FE;\n",
              "      --fill-color: #1967D2;\n",
              "      --hover-bg-color: #E2EBFA;\n",
              "      --hover-fill-color: #174EA6;\n",
              "      --disabled-fill-color: #AAA;\n",
              "      --disabled-bg-color: #DDD;\n",
              "  }\n",
              "\n",
              "  [theme=dark] .colab-df-quickchart {\n",
              "      --bg-color: #3B4455;\n",
              "      --fill-color: #D2E3FC;\n",
              "      --hover-bg-color: #434B5C;\n",
              "      --hover-fill-color: #FFFFFF;\n",
              "      --disabled-bg-color: #3B4455;\n",
              "      --disabled-fill-color: #666;\n",
              "  }\n",
              "\n",
              "  .colab-df-quickchart {\n",
              "    background-color: var(--bg-color);\n",
              "    border: none;\n",
              "    border-radius: 50%;\n",
              "    cursor: pointer;\n",
              "    display: none;\n",
              "    fill: var(--fill-color);\n",
              "    height: 32px;\n",
              "    padding: 0;\n",
              "    width: 32px;\n",
              "  }\n",
              "\n",
              "  .colab-df-quickchart:hover {\n",
              "    background-color: var(--hover-bg-color);\n",
              "    box-shadow: 0 1px 2px rgba(60, 64, 67, 0.3), 0 1px 3px 1px rgba(60, 64, 67, 0.15);\n",
              "    fill: var(--button-hover-fill-color);\n",
              "  }\n",
              "\n",
              "  .colab-df-quickchart-complete:disabled,\n",
              "  .colab-df-quickchart-complete:disabled:hover {\n",
              "    background-color: var(--disabled-bg-color);\n",
              "    fill: var(--disabled-fill-color);\n",
              "    box-shadow: none;\n",
              "  }\n",
              "\n",
              "  .colab-df-spinner {\n",
              "    border: 2px solid var(--fill-color);\n",
              "    border-color: transparent;\n",
              "    border-bottom-color: var(--fill-color);\n",
              "    animation:\n",
              "      spin 1s steps(1) infinite;\n",
              "  }\n",
              "\n",
              "  @keyframes spin {\n",
              "    0% {\n",
              "      border-color: transparent;\n",
              "      border-bottom-color: var(--fill-color);\n",
              "      border-left-color: var(--fill-color);\n",
              "    }\n",
              "    20% {\n",
              "      border-color: transparent;\n",
              "      border-left-color: var(--fill-color);\n",
              "      border-top-color: var(--fill-color);\n",
              "    }\n",
              "    30% {\n",
              "      border-color: transparent;\n",
              "      border-left-color: var(--fill-color);\n",
              "      border-top-color: var(--fill-color);\n",
              "      border-right-color: var(--fill-color);\n",
              "    }\n",
              "    40% {\n",
              "      border-color: transparent;\n",
              "      border-right-color: var(--fill-color);\n",
              "      border-top-color: var(--fill-color);\n",
              "    }\n",
              "    60% {\n",
              "      border-color: transparent;\n",
              "      border-right-color: var(--fill-color);\n",
              "    }\n",
              "    80% {\n",
              "      border-color: transparent;\n",
              "      border-right-color: var(--fill-color);\n",
              "      border-bottom-color: var(--fill-color);\n",
              "    }\n",
              "    90% {\n",
              "      border-color: transparent;\n",
              "      border-bottom-color: var(--fill-color);\n",
              "    }\n",
              "  }\n",
              "</style>\n",
              "\n",
              "  <script>\n",
              "    async function quickchart(key) {\n",
              "      const quickchartButtonEl =\n",
              "        document.querySelector('#' + key + ' button');\n",
              "      quickchartButtonEl.disabled = true;  // To prevent multiple clicks.\n",
              "      quickchartButtonEl.classList.add('colab-df-spinner');\n",
              "      try {\n",
              "        const charts = await google.colab.kernel.invokeFunction(\n",
              "            'suggestCharts', [key], {});\n",
              "      } catch (error) {\n",
              "        console.error('Error during call to suggestCharts:', error);\n",
              "      }\n",
              "      quickchartButtonEl.classList.remove('colab-df-spinner');\n",
              "      quickchartButtonEl.classList.add('colab-df-quickchart-complete');\n",
              "    }\n",
              "    (() => {\n",
              "      let quickchartButtonEl =\n",
              "        document.querySelector('#df-efb5c159-13e3-4e3e-b98f-b89d2929dab9 button');\n",
              "      quickchartButtonEl.style.display =\n",
              "        google.colab.kernel.accessAllowed ? 'block' : 'none';\n",
              "    })();\n",
              "  </script>\n",
              "</div>\n",
              "\n",
              "    </div>\n",
              "  </div>\n"
            ],
            "application/vnd.google.colaboratory.intrinsic+json": {
              "type": "dataframe",
              "variable_name": "df",
              "summary": "{\n  \"name\": \"df\",\n  \"rows\": 100,\n  \"fields\": [\n    {\n      \"column\": \"Distance_to_City_Center\",\n      \"properties\": {\n        \"dtype\": \"number\",\n        \"std\": 3.909337565626714,\n        \"min\": 0.5,\n        \"max\": 17.5,\n        \"num_unique_values\": 65,\n        \"samples\": [\n          5.9,\n          10.7,\n          5.2\n        ],\n        \"semantic_type\": \"\",\n        \"description\": \"\"\n      }\n    },\n    {\n      \"column\": \" Area(sqft)\",\n      \"properties\": {\n        \"dtype\": \"number\",\n        \"std\": 731,\n        \"min\": 800,\n        \"max\": 3800,\n        \"num_unique_values\": 32,\n        \"samples\": [\n          3400,\n          2600,\n          2700\n        ],\n        \"semantic_type\": \"\",\n        \"description\": \"\"\n      }\n    },\n    {\n      \"column\": \" Bedrooms\",\n      \"properties\": {\n        \"dtype\": \"number\",\n        \"std\": 1,\n        \"min\": 1,\n        \"max\": 6,\n        \"num_unique_values\": 6,\n        \"samples\": [\n          3,\n          4,\n          1\n        ],\n        \"semantic_type\": \"\",\n        \"description\": \"\"\n      }\n    },\n    {\n      \"column\": \" Target\",\n      \"properties\": {\n        \"dtype\": \"number\",\n        \"std\": 176419,\n        \"min\": 60000,\n        \"max\": 810000,\n        \"num_unique_values\": 51,\n        \"samples\": [\n          370000,\n          690000,\n          340000\n        ],\n        \"semantic_type\": \"\",\n        \"description\": \"\"\n      }\n    }\n  ]\n}"
            }
          },
          "metadata": {},
          "execution_count": 3
        }
      ]
    },
    {
      "cell_type": "code",
      "source": [
        "df.isnull().sum()"
      ],
      "metadata": {
        "colab": {
          "base_uri": "https://localhost:8080/"
        },
        "id": "irn6hCKuvqce",
        "outputId": "5cbb7114-d93b-4725-fc1f-7ccc3f61f486"
      },
      "execution_count": null,
      "outputs": [
        {
          "output_type": "execute_result",
          "data": {
            "text/plain": [
              "Distance_to_City_Center    0\n",
              " Area(sqft)                0\n",
              " Bedrooms                  0\n",
              " Target                    0\n",
              "dtype: int64"
            ]
          },
          "metadata": {},
          "execution_count": 4
        }
      ]
    },
    {
      "cell_type": "markdown",
      "source": [
        "Data Visualization"
      ],
      "metadata": {
        "id": "LoNT_aF6yfV7"
      }
    },
    {
      "cell_type": "code",
      "source": [
        "import matplotlib.pyplot as plt\n",
        "import seaborn as sns\n",
        "\n",
        "# Assuming your data is stored in a pandas DataFrame called 'df'\n",
        "# 'Distance_to_City_Center', 'Area(sqft)', 'Bedrooms', and 'Target' are column names in your DataFrame\n",
        "\n",
        "# Scatter plot for Distance_to_City_Center vs Target\n",
        "plt.figure(figsize=(10, 6))\n",
        "sns.scatterplot(x='Distance_to_City_Center', y=' Target', data=df)\n",
        "plt.title('Distance to City Center vs Target')\n",
        "plt.xlabel('Distance to City Center')\n",
        "plt.ylabel('Target')\n",
        "plt.show()\n",
        "\n",
        "# Scatter plot for Area(sqft) vs Target\n",
        "plt.figure(figsize=(10, 6))\n",
        "sns.scatterplot(x=' Area(sqft)', y=' Target', data=df)\n",
        "plt.title('Area(sqft) vs Target')\n",
        "plt.xlabel('Area(sqft)')\n",
        "plt.ylabel('Target')\n",
        "plt.show()\n",
        "\n",
        "# Scatter plot for Bedrooms vs Target\n",
        "plt.figure(figsize=(10, 6))\n",
        "sns.scatterplot(x=' Bedrooms', y=' Target', data=df)\n",
        "plt.title('Bedrooms vs Target')\n",
        "plt.xlabel('Bedrooms')\n",
        "plt.ylabel('Target')\n",
        "plt.show()\n"
      ],
      "metadata": {
        "colab": {
          "base_uri": "https://localhost:8080/",
          "height": 1000
        },
        "id": "2rnfLxW9yecD",
        "outputId": "83d2b93d-d84a-413b-f315-0f755ff90d0d"
      },
      "execution_count": null,
      "outputs": [
        {
          "output_type": "display_data",
          "data": {
            "text/plain": [
              "<Figure size 1000x600 with 1 Axes>"
            ],
            "image/png": "[encoded data removed]"
          },
          "metadata": {}
        },
        {
          "output_type": "display_data",
          "data": {
            "text/plain": [
              "<Figure size 1000x600 with 1 Axes>"
            ],
            "image/png": "[encoded data removed]"
          },
          "metadata": {}
        },
        {
          "output_type": "display_data",
          "data": {
            "text/plain": [
              "<Figure size 1000x600 with 1 Axes>"
            ],
            "image/png": "[encoded data removed]"
          },
          "metadata": {}
        }
      ]
    },
    {
      "cell_type": "markdown",
      "source": [
        "Spliting the dataset"
      ],
      "metadata": {
        "id": "CDtCVEXnRYev"
      }
    },
    {
      "cell_type": "code",
      "source": [
        "total_rows = len(df)\n",
        "part_size = total_rows // 3\n",
        "\n",
        "# Split the DataFrame into three parts\n",
        "part1 = df.iloc[:part_size]\n",
        "part2 = df.iloc[part_size:2*part_size]\n",
        "part3 = df.iloc[2*part_size:]\n",
        "\n",
        "# Write each part to separate CSV files\n",
        "part1.to_csv('part1.csv', index=False)\n",
        "part2.to_csv('part2.csv', index=False)\n",
        "part3.to_csv('part3.csv', index=False)"
      ],
      "metadata": {
        "id": "klqPgtlt6ZJy"
      },
      "execution_count": null,
      "outputs": []
    },
    {
      "cell_type": "code",
      "source": [
        "df1=pd.read_csv('part1.csv')\n",
        "df2=pd.read_csv('part2.csv')\n",
        "df3=pd.read_csv('part3.csv')"
      ],
      "metadata": {
        "id": "f52kNWl46fcm"
      },
      "execution_count": null,
      "outputs": []
    },
    {
      "cell_type": "code",
      "source": [
        "xc1 = df1.iloc[:,0:3]\n",
        "yc1 = df1.iloc[:,3:4]"
      ],
      "metadata": {
        "id": "EGqn0tNDvsmx"
      },
      "execution_count": null,
      "outputs": []
    },
    {
      "cell_type": "code",
      "source": [
        "xtrc1,xtstc1,ytrc1,ytstc1 = train_test_split(xc1,yc1,train_size = .8)"
      ],
      "metadata": {
        "id": "1KqECqOuvvx9"
      },
      "execution_count": null,
      "outputs": []
    },
    {
      "cell_type": "markdown",
      "source": [
        "Client-1"
      ],
      "metadata": {
        "id": "d3LrOEEmRcbp"
      }
    },
    {
      "cell_type": "markdown",
      "source": [
        "First Model -> Linear Regression"
      ],
      "metadata": {
        "id": "HvZPW31G6ynB"
      }
    },
    {
      "cell_type": "code",
      "source": [
        "from sklearn import linear_model as lm\n",
        "m = lm.LinearRegression()\n",
        "m.fit(xtrc1,ytrc1)"
      ],
      "metadata": {
        "colab": {
          "base_uri": "https://localhost:8080/",
          "height": 74
        },
        "id": "G36pUWgdwExy",
        "outputId": "6cea367f-bbb9-4c93-908b-b26e7ceb530a"
      },
      "execution_count": null,
      "outputs": [
        {
          "output_type": "execute_result",
          "data": {
            "text/plain": [
              "LinearRegression()"
            ],
            "text/html": [
              "<style>#sk-container-id-1 {color: black;background-color: white;}#sk-container-id-1 pre{padding: 0;}#sk-container-id-1 div.sk-toggleable {background-color: white;}#sk-container-id-1 label.sk-toggleable__label {cursor: pointer;display: block;width: 100%;margin-bottom: 0;padding: 0.3em;box-sizing: border-box;text-align: center;}#sk-container-id-1 label.sk-toggleable__label-arrow:before {content: \"▸\";float: left;margin-right: 0.25em;color: #696969;}#sk-container-id-1 label.sk-toggleable__label-arrow:hover:before {color: black;}#sk-container-id-1 div.sk-estimator:hover label.sk-toggleable__label-arrow:before {color: black;}#sk-container-id-1 div.sk-toggleable__content {max-height: 0;max-width: 0;overflow: hidden;text-align: left;background-color: #f0f8ff;}#sk-container-id-1 div.sk-toggleable__content pre {margin: 0.2em;color: black;border-radius: 0.25em;background-color: #f0f8ff;}#sk-container-id-1 input.sk-toggleable__control:checked~div.sk-toggleable__content {max-height: 200px;max-width: 100%;overflow: auto;}#sk-container-id-1 input.sk-toggleable__control:checked~label.sk-toggleable__label-arrow:before {content: \"▾\";}#sk-container-id-1 div.sk-estimator input.sk-toggleable__control:checked~label.sk-toggleable__label {background-color: #d4ebff;}#sk-container-id-1 div.sk-label input.sk-toggleable__control:checked~label.sk-toggleable__label {background-color: #d4ebff;}#sk-container-id-1 input.sk-hidden--visually {border: 0;clip: rect(1px 1px 1px 1px);clip: rect(1px, 1px, 1px, 1px);height: 1px;margin: -1px;overflow: hidden;padding: 0;position: absolute;width: 1px;}#sk-container-id-1 div.sk-estimator {font-family: monospace;background-color: #f0f8ff;border: 1px dotted black;border-radius: 0.25em;box-sizing: border-box;margin-bottom: 0.5em;}#sk-container-id-1 div.sk-estimator:hover {background-color: #d4ebff;}#sk-container-id-1 div.sk-parallel-item::after {content: \"\";width: 100%;border-bottom: 1px solid gray;flex-grow: 1;}#sk-container-id-1 div.sk-label:hover label.sk-toggleable__label {background-color: #d4ebff;}#sk-container-id-1 div.sk-serial::before {content: \"\";position: absolute;border-left: 1px solid gray;box-sizing: border-box;top: 0;bottom: 0;left: 50%;z-index: 0;}#sk-container-id-1 div.sk-serial {display: flex;flex-direction: column;align-items: center;background-color: white;padding-right: 0.2em;padding-left: 0.2em;position: relative;}#sk-container-id-1 div.sk-item {position: relative;z-index: 1;}#sk-container-id-1 div.sk-parallel {display: flex;align-items: stretch;justify-content: center;background-color: white;position: relative;}#sk-container-id-1 div.sk-item::before, #sk-container-id-1 div.sk-parallel-item::before {content: \"\";position: absolute;border-left: 1px solid gray;box-sizing: border-box;top: 0;bottom: 0;left: 50%;z-index: -1;}#sk-container-id-1 div.sk-parallel-item {display: flex;flex-direction: column;z-index: 1;position: relative;background-color: white;}#sk-container-id-1 div.sk-parallel-item:first-child::after {align-self: flex-end;width: 50%;}#sk-container-id-1 div.sk-parallel-item:last-child::after {align-self: flex-start;width: 50%;}#sk-container-id-1 div.sk-parallel-item:only-child::after {width: 0;}#sk-container-id-1 div.sk-dashed-wrapped {border: 1px dashed gray;margin: 0 0.4em 0.5em 0.4em;box-sizing: border-box;padding-bottom: 0.4em;background-color: white;}#sk-container-id-1 div.sk-label label {font-family: monospace;font-weight: bold;display: inline-block;line-height: 1.2em;}#sk-container-id-1 div.sk-label-container {text-align: center;}#sk-container-id-1 div.sk-container {/* jupyter's `normalize.less` sets `[hidden] { display: none; }` but bootstrap.min.css set `[hidden] { display: none !important; }` so we also need the `!important` here to be able to override the default hidden behavior on the sphinx rendered scikit-learn.org. See: https://github.com/scikit-learn/scikit-learn/issues/21755 */display: inline-block !important;position: relative;}#sk-container-id-1 div.sk-text-repr-fallback {display: none;}</style><div id=\"sk-container-id-1\" class=\"sk-top-container\"><div class=\"sk-text-repr-fallback\"><pre>LinearRegression()</pre><b>In a Jupyter environment, please rerun this cell to show the HTML representation or trust the notebook. <br />On GitHub, the HTML representation is unable to render, please try loading this page with nbviewer.org.</b></div><div class=\"sk-container\" hidden><div class=\"sk-item\"><div class=\"sk-estimator sk-toggleable\"><input class=\"sk-toggleable__control sk-hidden--visually\" id=\"sk-estimator-id-1\" type=\"checkbox\" checked><label for=\"sk-estimator-id-1\" class=\"sk-toggleable__label sk-toggleable__label-arrow\">LinearRegression</label><div class=\"sk-toggleable__content\"><pre>LinearRegression()</pre></div></div></div></div></div>"
            ]
          },
          "metadata": {},
          "execution_count": 10
        }
      ]
    },
    {
      "cell_type": "code",
      "source": [
        "y_predc1 = m.predict(xtstc1)"
      ],
      "metadata": {
        "id": "pLsLUovRwHBq"
      },
      "execution_count": null,
      "outputs": []
    },
    {
      "cell_type": "code",
      "source": [
        "y_predc1"
      ],
      "metadata": {
        "colab": {
          "base_uri": "https://localhost:8080/"
        },
        "id": "i5CuCymlwJ-o",
        "outputId": "b8e9849c-259e-4666-97dc-406916632975"
      },
      "execution_count": null,
      "outputs": [
        {
          "output_type": "execute_result",
          "data": {
            "text/plain": [
              "array([[386556.21799268],\n",
              "       [ 99437.49797581],\n",
              "       [303391.38710386],\n",
              "       [324001.38756011],\n",
              "       [608583.20585369],\n",
              "       [180019.2105978 ],\n",
              "       [138376.3927314 ]])"
            ]
          },
          "metadata": {},
          "execution_count": 12
        }
      ]
    },
    {
      "cell_type": "code",
      "source": [
        "ytstc1"
      ],
      "metadata": {
        "colab": {
          "base_uri": "https://localhost:8080/",
          "height": 268
        },
        "id": "DtxkieaQwMEW",
        "outputId": "9da09fe5-aada-4fc6-e4fd-761d91a5db22"
      },
      "execution_count": null,
      "outputs": [
        {
          "output_type": "execute_result",
          "data": {
            "text/plain": [
              "     Target\n",
              "6    380000\n",
              "22   100000\n",
              "11   320000\n",
              "17   270000\n",
              "25   590000\n",
              "13   180000\n",
              "30   140000"
            ],
            "text/html": [
              "\n",
              "  <div id=\"df-289695c0-8566-4862-85fa-58b6803dcf8a\" class=\"colab-df-container\">\n",
              "    <div>\n",
              "<style scoped>\n",
              "    .dataframe tbody tr th:only-of-type {\n",
              "        vertical-align: middle;\n",
              "    }\n",
              "\n",
              "    .dataframe tbody tr th {\n",
              "        vertical-align: top;\n",
              "    }\n",
              "\n",
              "    .dataframe thead th {\n",
              "        text-align: right;\n",
              "    }\n",
              "</style>\n",
              "<table border=\"1\" class=\"dataframe\">\n",
              "  <thead>\n",
              "    <tr style=\"text-align: right;\">\n",
              "      <th></th>\n",
              "      <th>Target</th>\n",
              "    </tr>\n",
              "  </thead>\n",
              "  <tbody>\n",
              "    <tr>\n",
              "      <th>6</th>\n",
              "      <td>380000</td>\n",
              "    </tr>\n",
              "    <tr>\n",
              "      <th>22</th>\n",
              "      <td>100000</td>\n",
              "    </tr>\n",
              "    <tr>\n",
              "      <th>11</th>\n",
              "      <td>320000</td>\n",
              "    </tr>\n",
              "    <tr>\n",
              "      <th>17</th>\n",
              "      <td>270000</td>\n",
              "    </tr>\n",
              "    <tr>\n",
              "      <th>25</th>\n",
              "      <td>590000</td>\n",
              "    </tr>\n",
              "    <tr>\n",
              "      <th>13</th>\n",
              "      <td>180000</td>\n",
              "    </tr>\n",
              "    <tr>\n",
              "      <th>30</th>\n",
              "      <td>140000</td>\n",
              "    </tr>\n",
              "  </tbody>\n",
              "</table>\n",
              "</div>\n",
              "    <div class=\"colab-df-buttons\">\n",
              "\n",
              "  <div class=\"colab-df-container\">\n",
              "    <button class=\"colab-df-convert\" onclick=\"convertToInteractive('df-289695c0-8566-4862-85fa-58b6803dcf8a')\"\n",
              "            title=\"Convert this dataframe to an interactive table.\"\n",
              "            style=\"display:none;\">\n",
              "\n",
              "  <svg xmlns=\"http://www.w3.org/2000/svg\" height=\"24px\" viewBox=\"0 -960 960 960\">\n",
              "    <path d=\"M120-120v-720h720v720H120Zm60-500h600v-160H180v160Zm220 220h160v-160H400v160Zm0 220h160v-160H400v160ZM180-400h160v-160H180v160Zm440 0h160v-160H620v160ZM180-180h160v-160H180v160Zm440 0h160v-160H620v160Z\"/>\n",
              "  </svg>\n",
              "    </button>\n",
              "\n",
              "  <style>\n",
              "    .colab-df-container {\n",
              "      display:flex;\n",
              "      gap: 12px;\n",
              "    }\n",
              "\n",
              "    .colab-df-convert {\n",
              "      background-color: #E8F0FE;\n",
              "      border: none;\n",
              "      border-radius: 50%;\n",
              "      cursor: pointer;\n",
              "      display: none;\n",
              "      fill: #1967D2;\n",
              "      height: 32px;\n",
              "      padding: 0 0 0 0;\n",
              "      width: 32px;\n",
              "    }\n",
              "\n",
              "    .colab-df-convert:hover {\n",
              "      background-color: #E2EBFA;\n",
              "      box-shadow: 0px 1px 2px rgba(60, 64, 67, 0.3), 0px 1px 3px 1px rgba(60, 64, 67, 0.15);\n",
              "      fill: #174EA6;\n",
              "    }\n",
              "\n",
              "    .colab-df-buttons div {\n",
              "      margin-bottom: 4px;\n",
              "    }\n",
              "\n",
              "    [theme=dark] .colab-df-convert {\n",
              "      background-color: #3B4455;\n",
              "      fill: #D2E3FC;\n",
              "    }\n",
              "\n",
              "    [theme=dark] .colab-df-convert:hover {\n",
              "      background-color: #434B5C;\n",
              "      box-shadow: 0px 1px 3px 1px rgba(0, 0, 0, 0.15);\n",
              "      filter: drop-shadow(0px 1px 2px rgba(0, 0, 0, 0.3));\n",
              "      fill: #FFFFFF;\n",
              "    }\n",
              "  </style>\n",
              "\n",
              "    <script>\n",
              "      const buttonEl =\n",
              "        document.querySelector('#df-289695c0-8566-4862-85fa-58b6803dcf8a button.colab-df-convert');\n",
              "      buttonEl.style.display =\n",
              "        google.colab.kernel.accessAllowed ? 'block' : 'none';\n",
              "\n",
              "      async function convertToInteractive(key) {\n",
              "        const element = document.querySelector('#df-289695c0-8566-4862-85fa-58b6803dcf8a');\n",
              "        const dataTable =\n",
              "          await google.colab.kernel.invokeFunction('convertToInteractive',\n",
              "                                                    [key], {});\n",
              "        if (!dataTable) return;\n",
              "\n",
              "        const docLinkHtml = 'Like what you see? Visit the ' +\n",
              "          '<a target=\"_blank\" href=https://colab.research.google.com/notebooks/data_table.ipynb>data table notebook</a>'\n",
              "          + ' to learn more about interactive tables.';\n",
              "        element.innerHTML = '';\n",
              "        dataTable['output_type'] = 'display_data';\n",
              "        await google.colab.output.renderOutput(dataTable, element);\n",
              "        const docLink = document.createElement('div');\n",
              "        docLink.innerHTML = docLinkHtml;\n",
              "        element.appendChild(docLink);\n",
              "      }\n",
              "    </script>\n",
              "  </div>\n",
              "\n",
              "\n",
              "<div id=\"df-6bc5d287-821c-4ff0-9cc0-9a7209b01782\">\n",
              "  <button class=\"colab-df-quickchart\" onclick=\"quickchart('df-6bc5d287-821c-4ff0-9cc0-9a7209b01782')\"\n",
              "            title=\"Suggest charts\"\n",
              "            style=\"display:none;\">\n",
              "\n",
              "<svg xmlns=\"http://www.w3.org/2000/svg\" height=\"24px\"viewBox=\"0 0 24 24\"\n",
              "     width=\"24px\">\n",
              "    <g>\n",
              "        <path d=\"M19 3H5c-1.1 0-2 .9-2 2v14c0 1.1.9 2 2 2h14c1.1 0 2-.9 2-2V5c0-1.1-.9-2-2-2zM9 17H7v-7h2v7zm4 0h-2V7h2v10zm4 0h-2v-4h2v4z\"/>\n",
              "    </g>\n",
              "</svg>\n",
              "  </button>\n",
              "\n",
              "<style>\n",
              "  .colab-df-quickchart {\n",
              "      --bg-color: #E8F0FE;\n",
              "      --fill-color: #1967D2;\n",
              "      --hover-bg-color: #E2EBFA;\n",
              "      --hover-fill-color: #174EA6;\n",
              "      --disabled-fill-color: #AAA;\n",
              "      --disabled-bg-color: #DDD;\n",
              "  }\n",
              "\n",
              "  [theme=dark] .colab-df-quickchart {\n",
              "      --bg-color: #3B4455;\n",
              "      --fill-color: #D2E3FC;\n",
              "      --hover-bg-color: #434B5C;\n",
              "      --hover-fill-color: #FFFFFF;\n",
              "      --disabled-bg-color: #3B4455;\n",
              "      --disabled-fill-color: #666;\n",
              "  }\n",
              "\n",
              "  .colab-df-quickchart {\n",
              "    background-color: var(--bg-color);\n",
              "    border: none;\n",
              "    border-radius: 50%;\n",
              "    cursor: pointer;\n",
              "    display: none;\n",
              "    fill: var(--fill-color);\n",
              "    height: 32px;\n",
              "    padding: 0;\n",
              "    width: 32px;\n",
              "  }\n",
              "\n",
              "  .colab-df-quickchart:hover {\n",
              "    background-color: var(--hover-bg-color);\n",
              "    box-shadow: 0 1px 2px rgba(60, 64, 67, 0.3), 0 1px 3px 1px rgba(60, 64, 67, 0.15);\n",
              "    fill: var(--button-hover-fill-color);\n",
              "  }\n",
              "\n",
              "  .colab-df-quickchart-complete:disabled,\n",
              "  .colab-df-quickchart-complete:disabled:hover {\n",
              "    background-color: var(--disabled-bg-color);\n",
              "    fill: var(--disabled-fill-color);\n",
              "    box-shadow: none;\n",
              "  }\n",
              "\n",
              "  .colab-df-spinner {\n",
              "    border: 2px solid var(--fill-color);\n",
              "    border-color: transparent;\n",
              "    border-bottom-color: var(--fill-color);\n",
              "    animation:\n",
              "      spin 1s steps(1) infinite;\n",
              "  }\n",
              "\n",
              "  @keyframes spin {\n",
              "    0% {\n",
              "      border-color: transparent;\n",
              "      border-bottom-color: var(--fill-color);\n",
              "      border-left-color: var(--fill-color);\n",
              "    }\n",
              "    20% {\n",
              "      border-color: transparent;\n",
              "      border-left-color: var(--fill-color);\n",
              "      border-top-color: var(--fill-color);\n",
              "    }\n",
              "    30% {\n",
              "      border-color: transparent;\n",
              "      border-left-color: var(--fill-color);\n",
              "      border-top-color: var(--fill-color);\n",
              "      border-right-color: var(--fill-color);\n",
              "    }\n",
              "    40% {\n",
              "      border-color: transparent;\n",
              "      border-right-color: var(--fill-color);\n",
              "      border-top-color: var(--fill-color);\n",
              "    }\n",
              "    60% {\n",
              "      border-color: transparent;\n",
              "      border-right-color: var(--fill-color);\n",
              "    }\n",
              "    80% {\n",
              "      border-color: transparent;\n",
              "      border-right-color: var(--fill-color);\n",
              "      border-bottom-color: var(--fill-color);\n",
              "    }\n",
              "    90% {\n",
              "      border-color: transparent;\n",
              "      border-bottom-color: var(--fill-color);\n",
              "    }\n",
              "  }\n",
              "</style>\n",
              "\n",
              "  <script>\n",
              "    async function quickchart(key) {\n",
              "      const quickchartButtonEl =\n",
              "        document.querySelector('#' + key + ' button');\n",
              "      quickchartButtonEl.disabled = true;  // To prevent multiple clicks.\n",
              "      quickchartButtonEl.classList.add('colab-df-spinner');\n",
              "      try {\n",
              "        const charts = await google.colab.kernel.invokeFunction(\n",
              "            'suggestCharts', [key], {});\n",
              "      } catch (error) {\n",
              "        console.error('Error during call to suggestCharts:', error);\n",
              "      }\n",
              "      quickchartButtonEl.classList.remove('colab-df-spinner');\n",
              "      quickchartButtonEl.classList.add('colab-df-quickchart-complete');\n",
              "    }\n",
              "    (() => {\n",
              "      let quickchartButtonEl =\n",
              "        document.querySelector('#df-6bc5d287-821c-4ff0-9cc0-9a7209b01782 button');\n",
              "      quickchartButtonEl.style.display =\n",
              "        google.colab.kernel.accessAllowed ? 'block' : 'none';\n",
              "    })();\n",
              "  </script>\n",
              "</div>\n",
              "\n",
              "  <div id=\"id_4da40e3d-ceb4-4e0a-bfc6-e3d337c43db4\">\n",
              "    <style>\n",
              "      .colab-df-generate {\n",
              "        background-color: #E8F0FE;\n",
              "        border: none;\n",
              "        border-radius: 50%;\n",
              "        cursor: pointer;\n",
              "        display: none;\n",
              "        fill: #1967D2;\n",
              "        height: 32px;\n",
              "        padding: 0 0 0 0;\n",
              "        width: 32px;\n",
              "      }\n",
              "\n",
              "      .colab-df-generate:hover {\n",
              "        background-color: #E2EBFA;\n",
              "        box-shadow: 0px 1px 2px rgba(60, 64, 67, 0.3), 0px 1px 3px 1px rgba(60, 64, 67, 0.15);\n",
              "        fill: #174EA6;\n",
              "      }\n",
              "\n",
              "      [theme=dark] .colab-df-generate {\n",
              "        background-color: #3B4455;\n",
              "        fill: #D2E3FC;\n",
              "      }\n",
              "\n",
              "      [theme=dark] .colab-df-generate:hover {\n",
              "        background-color: #434B5C;\n",
              "        box-shadow: 0px 1px 3px 1px rgba(0, 0, 0, 0.15);\n",
              "        filter: drop-shadow(0px 1px 2px rgba(0, 0, 0, 0.3));\n",
              "        fill: #FFFFFF;\n",
              "      }\n",
              "    </style>\n",
              "    <button class=\"colab-df-generate\" onclick=\"generateWithVariable('ytstc1')\"\n",
              "            title=\"Generate code using this dataframe.\"\n",
              "            style=\"display:none;\">\n",
              "\n",
              "  <svg xmlns=\"http://www.w3.org/2000/svg\" height=\"24px\"viewBox=\"0 0 24 24\"\n",
              "       width=\"24px\">\n",
              "    <path d=\"M7,19H8.4L18.45,9,17,7.55,7,17.6ZM5,21V16.75L18.45,3.32a2,2,0,0,1,2.83,0l1.4,1.43a1.91,1.91,0,0,1,.58,1.4,1.91,1.91,0,0,1-.58,1.4L9.25,21ZM18.45,9,17,7.55Zm-12,3A5.31,5.31,0,0,0,4.9,8.1,5.31,5.31,0,0,0,1,6.5,5.31,5.31,0,0,0,4.9,4.9,5.31,5.31,0,0,0,6.5,1,5.31,5.31,0,0,0,8.1,4.9,5.31,5.31,0,0,0,12,6.5,5.46,5.46,0,0,0,6.5,12Z\"/>\n",
              "  </svg>\n",
              "    </button>\n",
              "    <script>\n",
              "      (() => {\n",
              "      const buttonEl =\n",
              "        document.querySelector('#id_4da40e3d-ceb4-4e0a-bfc6-e3d337c43db4 button.colab-df-generate');\n",
              "      buttonEl.style.display =\n",
              "        google.colab.kernel.accessAllowed ? 'block' : 'none';\n",
              "\n",
              "      buttonEl.onclick = () => {\n",
              "        google.colab.notebook.generateWithVariable('ytstc1');\n",
              "      }\n",
              "      })();\n",
              "    </script>\n",
              "  </div>\n",
              "\n",
              "    </div>\n",
              "  </div>\n"
            ],
            "application/vnd.google.colaboratory.intrinsic+json": {
              "type": "dataframe",
              "variable_name": "ytstc1",
              "summary": "{\n  \"name\": \"ytstc1\",\n  \"rows\": 7,\n  \"fields\": [\n    {\n      \"column\": \" Target\",\n      \"properties\": {\n        \"dtype\": \"number\",\n        \"std\": 168197,\n        \"min\": 100000,\n        \"max\": 590000,\n        \"num_unique_values\": 7,\n        \"samples\": [\n          380000,\n          100000,\n          180000\n        ],\n        \"semantic_type\": \"\",\n        \"description\": \"\"\n      }\n    }\n  ]\n}"
            }
          },
          "metadata": {},
          "execution_count": 13
        }
      ]
    },
    {
      "cell_type": "code",
      "source": [
        "from sklearn.metrics import mean_absolute_percentage_error as mpe\n",
        "mpe(ytstc1,y_predc1)"
      ],
      "metadata": {
        "colab": {
          "base_uri": "https://localhost:8080/"
        },
        "id": "4QwLAXRQwNbq",
        "outputId": "4369042d-9805-430e-eecb-6f98ae2c369f"
      },
      "execution_count": null,
      "outputs": [
        {
          "output_type": "execute_result",
          "data": {
            "text/plain": [
              "0.045426594184401245"
            ]
          },
          "metadata": {},
          "execution_count": 14
        }
      ]
    },
    {
      "cell_type": "code",
      "source": [
        "parc1 = [[0,0,0],[1,0,0],[0,1,0],[0,0,1]]\n",
        "parametersc1 = m.predict(parc1)"
      ],
      "metadata": {
        "colab": {
          "base_uri": "https://localhost:8080/"
        },
        "id": "3gWukmbkyp96",
        "outputId": "f2a6a50c-2ce2-4b59-9ea4-6a18db470165"
      },
      "execution_count": null,
      "outputs": [
        {
          "output_type": "stream",
          "name": "stderr",
          "text": [
            "/usr/local/lib/python3.10/dist-packages/sklearn/base.py:439: UserWarning: X does not have valid feature names, but LinearRegression was fitted with feature names\n",
            "  warnings.warn(\n"
          ]
        }
      ]
    },
    {
      "cell_type": "code",
      "source": [
        "m.coef_"
      ],
      "metadata": {
        "colab": {
          "base_uri": "https://localhost:8080/"
        },
        "id": "KJj79wQ20uCg",
        "outputId": "5b9e6145-7c6b-427f-90c7-1e9aa785cdad"
      },
      "execution_count": null,
      "outputs": [
        {
          "output_type": "execute_result",
          "data": {
            "text/plain": [
              "array([[ -604.02421983,   209.72414988, 18872.51609719]])"
            ]
          },
          "metadata": {},
          "execution_count": 16
        }
      ]
    },
    {
      "cell_type": "code",
      "source": [
        "for i in range(1,4):\n",
        "  parametersc1[i] = parametersc1[i]-parametersc1[0]"
      ],
      "metadata": {
        "id": "cpTjHyAzysGd"
      },
      "execution_count": null,
      "outputs": []
    },
    {
      "cell_type": "code",
      "source": [
        "parametersc1"
      ],
      "metadata": {
        "colab": {
          "base_uri": "https://localhost:8080/"
        },
        "id": "_hSWI7EZ1Ht2",
        "outputId": "6606a50c-2ee9-4a2c-aee6-e0e0749740af"
      },
      "execution_count": null,
      "outputs": [
        {
          "output_type": "execute_result",
          "data": {
            "text/plain": [
              "array([[-86912.3259167 ],\n",
              "       [  -604.02421983],\n",
              "       [   209.72414988],\n",
              "       [ 18872.51609719]])"
            ]
          },
          "metadata": {},
          "execution_count": 18
        }
      ]
    },
    {
      "cell_type": "code",
      "source": [
        "m.intercept_"
      ],
      "metadata": {
        "colab": {
          "base_uri": "https://localhost:8080/"
        },
        "id": "bJTWH4bY1_Gw",
        "outputId": "774ce2df-0a1e-40e6-c548-9aa1f7836006"
      },
      "execution_count": null,
      "outputs": [
        {
          "output_type": "execute_result",
          "data": {
            "text/plain": [
              "array([-86912.3259167])"
            ]
          },
          "metadata": {},
          "execution_count": 19
        }
      ]
    },
    {
      "cell_type": "markdown",
      "source": [
        "Second Model -> Lasso Regression"
      ],
      "metadata": {
        "id": "hN4NYhOp7Xl_"
      }
    },
    {
      "cell_type": "code",
      "source": [
        "from sklearn.model_selection import train_test_split\n",
        "from sklearn.linear_model import Lasso\n",
        "from sklearn.metrics import mean_absolute_percentage_error\n",
        "\n",
        "# Assuming you have your dataset loaded into X and y\n",
        "\n",
        "# Splitting the dataset into training and testing sets\n",
        "X_train, X_test, y_train, y_test = train_test_split(xc1, yc1, test_size=0.2, random_state=42)\n",
        "\n",
        "# Creating a Lasso regression model\n",
        "alpha = 0.1  # Regularization strength, higher values specify stronger regularization\n",
        "model = Lasso(alpha=alpha)\n",
        "\n",
        "# Training the model\n",
        "model.fit(X_train, y_train)\n",
        "\n",
        "# Making predictions\n",
        "y_pred = model.predict(X_test)\n",
        "\n",
        "# Evaluating the model\n",
        "mse = mean_absolute_percentage_error(y_test, y_pred)\n",
        "print(\"mean_absolute_percentage_error:\", mse)\n"
      ],
      "metadata": {
        "colab": {
          "base_uri": "https://localhost:8080/"
        },
        "id": "74Gh7RdW8UyD",
        "outputId": "e47194e3-da71-4611-a439-acecae19526a"
      },
      "execution_count": null,
      "outputs": [
        {
          "output_type": "stream",
          "name": "stdout",
          "text": [
            "mean_absolute_percentage_error: 0.05912197764720311\n"
          ]
        }
      ]
    },
    {
      "cell_type": "code",
      "source": [
        "model.coef_"
      ],
      "metadata": {
        "colab": {
          "base_uri": "https://localhost:8080/"
        },
        "id": "Pco2CPyb2lSj",
        "outputId": "149b4524-cfaa-4c79-8cb3-9abef7b63c6a"
      },
      "execution_count": null,
      "outputs": [
        {
          "output_type": "execute_result",
          "data": {
            "text/plain": [
              "array([-1228.8286666 ,   203.11230165, 23536.23152823])"
            ]
          },
          "metadata": {},
          "execution_count": 21
        }
      ]
    },
    {
      "cell_type": "code",
      "source": [
        "model.intercept_"
      ],
      "metadata": {
        "colab": {
          "base_uri": "https://localhost:8080/"
        },
        "id": "ajCNwnj42paq",
        "outputId": "66855dba-9e13-448a-9f3d-7ffad479ffb6"
      },
      "execution_count": null,
      "outputs": [
        {
          "output_type": "execute_result",
          "data": {
            "text/plain": [
              "array([-86891.68108826])"
            ]
          },
          "metadata": {},
          "execution_count": 22
        }
      ]
    },
    {
      "cell_type": "code",
      "source": [
        "parc1 = [[0,0,0],[1,0,0],[0,1,0],[0,0,1]]\n",
        "parametersc13 = model.predict(parc1)\n",
        "\n",
        "for i in range(1,4):\n",
        "  parametersc13[i] = parametersc13[i]-parametersc13[0]\n"
      ],
      "metadata": {
        "colab": {
          "base_uri": "https://localhost:8080/"
        },
        "id": "F3WJUQ8eR9NP",
        "outputId": "b2e5b1ff-a5a4-4a5c-dcaf-5b8797a9029c"
      },
      "execution_count": null,
      "outputs": [
        {
          "output_type": "stream",
          "name": "stderr",
          "text": [
            "/usr/local/lib/python3.10/dist-packages/sklearn/base.py:439: UserWarning: X does not have valid feature names, but Lasso was fitted with feature names\n",
            "  warnings.warn(\n"
          ]
        }
      ]
    },
    {
      "cell_type": "code",
      "source": [
        "parametersc13"
      ],
      "metadata": {
        "colab": {
          "base_uri": "https://localhost:8080/"
        },
        "id": "y_hWzrzjSGw8",
        "outputId": "85d3abe9-f89a-4a6e-bd91-bccfcc3172cc"
      },
      "execution_count": null,
      "outputs": [
        {
          "output_type": "execute_result",
          "data": {
            "text/plain": [
              "array([-86891.68108826,  -1228.8286666 ,    203.11230165,  23536.23152823])"
            ]
          },
          "metadata": {},
          "execution_count": 24
        }
      ]
    },
    {
      "cell_type": "markdown",
      "source": [
        "Third Model -KNN"
      ],
      "metadata": {
        "id": "Z1Bghr0y9WvD"
      }
    },
    {
      "cell_type": "code",
      "source": [
        "from sklearn.model_selection import train_test_split\n",
        "from sklearn.neighbors import KNeighborsRegressor\n",
        "from sklearn.metrics import mean_absolute_percentage_error\n",
        "\n",
        "# Assuming you have your dataset loaded into X and y\n",
        "\n",
        "# Splitting the dataset into training and testing sets\n",
        "X_train, X_test, y_train, y_test = train_test_split(xc1, yc1, test_size=0.2, random_state=42)\n",
        "\n",
        "# Creating a KNN regression model\n",
        "n_neighbors = 5  # Number of neighbors to use\n",
        "model = KNeighborsRegressor(n_neighbors=n_neighbors)\n",
        "\n",
        "# Training the model\n",
        "model.fit(X_train, y_train)\n",
        "\n",
        "# Making predictions\n",
        "y_pred = model.predict(X_test)\n",
        "\n",
        "# Evaluating the model\n",
        "mae = mean_absolute_percentage_error(y_test, y_pred)\n",
        "print(\"mean_absolute_percentage_error:\", mae)\n"
      ],
      "metadata": {
        "colab": {
          "base_uri": "https://localhost:8080/"
        },
        "id": "fgIc-MyZ9as_",
        "outputId": "5dd2f142-cbd4-4e42-ae03-b4473527b170"
      },
      "execution_count": null,
      "outputs": [
        {
          "output_type": "stream",
          "name": "stdout",
          "text": [
            "mean_absolute_percentage_error: 0.07908953864946788\n"
          ]
        }
      ]
    },
    {
      "cell_type": "markdown",
      "source": [
        "Client 2"
      ],
      "metadata": {
        "id": "lh6ciOJP9y4B"
      }
    },
    {
      "cell_type": "code",
      "source": [
        "xc2 = df2.iloc[:,0:3]\n",
        "yc2 = df2.iloc[:,3:4]"
      ],
      "metadata": {
        "id": "Dno74OjD91oz"
      },
      "execution_count": null,
      "outputs": []
    },
    {
      "cell_type": "markdown",
      "source": [
        "First Model - Linear Regression"
      ],
      "metadata": {
        "id": "4qSwDHIJ9_1P"
      }
    },
    {
      "cell_type": "code",
      "source": [
        "from sklearn.model_selection import train_test_split\n",
        "from sklearn.linear_model import LinearRegression\n",
        "from sklearn.metrics import mean_absolute_error\n",
        "\n",
        "# Assuming you have your dataset loaded into X and y\n",
        "\n",
        "# Splitting the dataset into training and testing sets\n",
        "X_train, X_test, y_train, y_test = train_test_split(xc2, yc2, test_size=0.2, random_state=42)\n",
        "\n",
        "# Creating a Linear Regression model\n",
        "model = LinearRegression()\n",
        "\n",
        "# Training the model\n",
        "model.fit(X_train, y_train)\n",
        "\n",
        "# Making predictions\n",
        "y_pred = model.predict(X_test)\n",
        "\n",
        "# Evaluating the model\n",
        "mae = mean_absolute_error(y_test, y_pred)\n",
        "print(\"Mean Absolute Error:\", mae)\n"
      ],
      "metadata": {
        "colab": {
          "base_uri": "https://localhost:8080/"
        },
        "id": "RRnn96gn9_FZ",
        "outputId": "3c482df8-faec-4f8e-ab80-3a8e34bc0a1a"
      },
      "execution_count": null,
      "outputs": [
        {
          "output_type": "stream",
          "name": "stdout",
          "text": [
            "Mean Absolute Error: 8367.46668327451\n"
          ]
        }
      ]
    },
    {
      "cell_type": "code",
      "source": [
        "parc1 = [[0,0,0],[1,0,0],[0,1,0],[0,0,1]]\n",
        "parametersc2 = model.predict(parc1)\n",
        "\n",
        "for i in range(1,4):\n",
        "  parametersc2[i] = parametersc2[i]-parametersc2[0]\n"
      ],
      "metadata": {
        "colab": {
          "base_uri": "https://localhost:8080/"
        },
        "id": "foYl6Q-f3RT2",
        "outputId": "752914f4-5b6e-48f9-91c5-150cfa97f93a"
      },
      "execution_count": null,
      "outputs": [
        {
          "output_type": "stream",
          "name": "stderr",
          "text": [
            "/usr/local/lib/python3.10/dist-packages/sklearn/base.py:439: UserWarning: X does not have valid feature names, but LinearRegression was fitted with feature names\n",
            "  warnings.warn(\n"
          ]
        }
      ]
    },
    {
      "cell_type": "code",
      "source": [
        "parametersc2"
      ],
      "metadata": {
        "colab": {
          "base_uri": "https://localhost:8080/"
        },
        "id": "btMPEQvD3d5C",
        "outputId": "52a1db9a-9638-4c1c-e1d6-140e9507bb1e"
      },
      "execution_count": null,
      "outputs": [
        {
          "output_type": "execute_result",
          "data": {
            "text/plain": [
              "array([[-56680.42862951],\n",
              "       [  8216.81390866],\n",
              "       [   173.00306041],\n",
              "       [ 14095.15671961]])"
            ]
          },
          "metadata": {},
          "execution_count": 29
        }
      ]
    },
    {
      "cell_type": "code",
      "source": [
        "model.coef_"
      ],
      "metadata": {
        "colab": {
          "base_uri": "https://localhost:8080/"
        },
        "id": "6tI51CxI3v1i",
        "outputId": "6e2ea6be-4376-45cc-804c-5d8ab0151f9a"
      },
      "execution_count": null,
      "outputs": [
        {
          "output_type": "execute_result",
          "data": {
            "text/plain": [
              "array([[ 8216.81390866,   173.00306041, 14095.15671961]])"
            ]
          },
          "metadata": {},
          "execution_count": 30
        }
      ]
    },
    {
      "cell_type": "code",
      "source": [
        "model.intercept_"
      ],
      "metadata": {
        "colab": {
          "base_uri": "https://localhost:8080/"
        },
        "id": "Nr5GucWT3y4f",
        "outputId": "a580af8c-feb4-417c-98d8-bbd7ac6a73a3"
      },
      "execution_count": null,
      "outputs": [
        {
          "output_type": "execute_result",
          "data": {
            "text/plain": [
              "array([-56680.42862951])"
            ]
          },
          "metadata": {},
          "execution_count": 31
        }
      ]
    },
    {
      "cell_type": "markdown",
      "source": [
        "second Model - Lasso Regression"
      ],
      "metadata": {
        "id": "BxX_LmJA-jpR"
      }
    },
    {
      "cell_type": "code",
      "source": [
        "from sklearn.model_selection import train_test_split\n",
        "from sklearn.linear_model import Lasso\n",
        "from sklearn.metrics import mean_squared_error\n",
        "\n",
        "# Assuming you have your dataset loaded into X and y\n",
        "\n",
        "# Splitting the dataset into training and testing sets\n",
        "X_train, X_test, y_train, y_test = train_test_split(xc2, yc2, test_size=0.2, random_state=42)\n",
        "\n",
        "# Creating a Lasso regression model\n",
        "alpha = 0.1  # Regularization strength, higher values specify stronger regularization\n",
        "model = Lasso(alpha=alpha)\n",
        "\n",
        "# Training the model\n",
        "model.fit(X_train, y_train)\n",
        "\n",
        "# Making predictions\n",
        "y_pred = model.predict(X_test)\n",
        "\n",
        "# Evaluating the model\n",
        "mse = mean_squared_error(y_test, y_pred)\n",
        "print(\"Mean Squared Error:\", mse)\n"
      ],
      "metadata": {
        "colab": {
          "base_uri": "https://localhost:8080/"
        },
        "id": "AhT3Do69-lTe",
        "outputId": "d62c826e-f6c5-4452-b461-5e13bef6ec4d"
      },
      "execution_count": null,
      "outputs": [
        {
          "output_type": "stream",
          "name": "stdout",
          "text": [
            "Mean Squared Error: 80031703.79982533\n"
          ]
        }
      ]
    },
    {
      "cell_type": "code",
      "source": [
        "model.coef_"
      ],
      "metadata": {
        "colab": {
          "base_uri": "https://localhost:8080/"
        },
        "id": "tA4UwGJ17fHl",
        "outputId": "01d57043-22c4-48de-c7d2-577eacb668dc"
      },
      "execution_count": null,
      "outputs": [
        {
          "output_type": "execute_result",
          "data": {
            "text/plain": [
              "array([ 8216.84904398,   173.00540608, 14093.56399715])"
            ]
          },
          "metadata": {},
          "execution_count": 33
        }
      ]
    },
    {
      "cell_type": "code",
      "source": [
        "model.intercept_"
      ],
      "metadata": {
        "colab": {
          "base_uri": "https://localhost:8080/"
        },
        "id": "Py4dM4Mz7h36",
        "outputId": "d6dc3a86-ca44-4e24-de91-4689c65c4c0a"
      },
      "execution_count": null,
      "outputs": [
        {
          "output_type": "execute_result",
          "data": {
            "text/plain": [
              "array([-56679.98849556])"
            ]
          },
          "metadata": {},
          "execution_count": 34
        }
      ]
    },
    {
      "cell_type": "code",
      "source": [
        "parc1 = [[0,0,0],[1,0,0],[0,1,0],[0,0,1]]\n",
        "parametersc23 = model.predict(parc1)\n",
        "\n",
        "for i in range(1,4):\n",
        "  parametersc23[i] = parametersc23[i]-parametersc23[0]\n"
      ],
      "metadata": {
        "colab": {
          "base_uri": "https://localhost:8080/"
        },
        "id": "SUTnkC-A7oQ0",
        "outputId": "32d263ad-3ecc-4f1d-8829-a44257210b05"
      },
      "execution_count": null,
      "outputs": [
        {
          "output_type": "stream",
          "name": "stderr",
          "text": [
            "/usr/local/lib/python3.10/dist-packages/sklearn/base.py:439: UserWarning: X does not have valid feature names, but Lasso was fitted with feature names\n",
            "  warnings.warn(\n"
          ]
        }
      ]
    },
    {
      "cell_type": "code",
      "source": [
        "parametersc23"
      ],
      "metadata": {
        "colab": {
          "base_uri": "https://localhost:8080/"
        },
        "id": "tsy20MFV7wEI",
        "outputId": "5ac8bd28-ef28-4ce2-d2b5-ec88acbcef28"
      },
      "execution_count": null,
      "outputs": [
        {
          "output_type": "execute_result",
          "data": {
            "text/plain": [
              "array([-56679.98849556,   8216.84904398,    173.00540608,  14093.56399715])"
            ]
          },
          "metadata": {},
          "execution_count": 36
        }
      ]
    },
    {
      "cell_type": "markdown",
      "source": [
        "Third Model - KNN"
      ],
      "metadata": {
        "id": "iSoBkT8B--t2"
      }
    },
    {
      "cell_type": "code",
      "source": [
        "from sklearn.model_selection import train_test_split\n",
        "from sklearn.neighbors import KNeighborsRegressor\n",
        "from sklearn.metrics import mean_absolute_percentage_error\n",
        "\n",
        "# Assuming you have your dataset loaded into X and y\n",
        "\n",
        "# Splitting the dataset into training and testing sets\n",
        "X_train, X_test, y_train, y_test = train_test_split(xc2, yc2, test_size=0.2, random_state=42)\n",
        "\n",
        "# Creating a KNN regression model\n",
        "n_neighbors = 5  # Number of neighbors to use\n",
        "model2 = KNeighborsRegressor(n_neighbors=n_neighbors)\n",
        "\n",
        "# Training the model\n",
        "model2.fit(X_train, y_train)\n",
        "\n",
        "# Making predictions\n",
        "y_pred = model2.predict(X_test)\n",
        "\n",
        "# Evaluating the model\n",
        "mae = mean_absolute_percentage_error(y_test, y_pred)\n",
        "print(\"mean_absolute_percentage_error\", mae)\n"
      ],
      "metadata": {
        "colab": {
          "base_uri": "https://localhost:8080/"
        },
        "id": "dHlKAQ-B_Aaq",
        "outputId": "3779210f-a76c-46da-8df1-20f71364b529"
      },
      "execution_count": null,
      "outputs": [
        {
          "output_type": "stream",
          "name": "stdout",
          "text": [
            "mean_absolute_percentage_error 0.06153293275368824\n"
          ]
        }
      ]
    },
    {
      "cell_type": "markdown",
      "source": [
        "Client-3"
      ],
      "metadata": {
        "id": "RS69AzIJBp23"
      }
    },
    {
      "cell_type": "code",
      "source": [
        "xc3 = df3.iloc[:,0:3]\n",
        "yc3 = df3.iloc[:,3:4]"
      ],
      "metadata": {
        "id": "GgIACo94-RKw"
      },
      "execution_count": null,
      "outputs": []
    },
    {
      "cell_type": "markdown",
      "source": [
        "First Model - Linear Regression"
      ],
      "metadata": {
        "id": "urrETn6f9_Vu"
      }
    },
    {
      "cell_type": "code",
      "source": [
        "from sklearn.model_selection import train_test_split\n",
        "from sklearn.linear_model import LinearRegression\n",
        "from sklearn.metrics import mean_absolute_error\n",
        "\n",
        "# Assuming you have your dataset loaded into X and y\n",
        "\n",
        "# Splitting the dataset into training and testing sets\n",
        "X_train, X_test, y_train, y_test = train_test_split(xc3, yc3, test_size=0.2, random_state=42)\n",
        "\n",
        "# Creating a Linear Regression model\n",
        "model = LinearRegression()\n",
        "\n",
        "# Training the model\n",
        "model.fit(X_train, y_train)\n",
        "\n",
        "# Making predictions\n",
        "y_pred = model.predict(X_test)\n",
        "\n",
        "# Evaluating the model\n",
        "mae = mean_absolute_error(y_test, y_pred)\n",
        "print(\"Mean Absolute Error:\", mae)\n"
      ],
      "metadata": {
        "colab": {
          "base_uri": "https://localhost:8080/"
        },
        "outputId": "43750dee-c5fc-46f7-fd61-44f89429d634",
        "id": "04ZUOwlW-e-a"
      },
      "execution_count": null,
      "outputs": [
        {
          "output_type": "stream",
          "name": "stdout",
          "text": [
            "Mean Absolute Error: 68865.11077756788\n"
          ]
        }
      ]
    },
    {
      "cell_type": "code",
      "source": [
        "parc1 = [[0,0,0],[1,0,0],[0,1,0],[0,0,1]]\n",
        "parametersc3 = model.predict(parc1)\n",
        "\n",
        "for i in range(1,4):\n",
        "  parametersc3[i] = parametersc3[i]-parametersc3[0]\n"
      ],
      "metadata": {
        "colab": {
          "base_uri": "https://localhost:8080/"
        },
        "outputId": "404b11aa-d0c7-4829-f4ec-31571d1374d5",
        "id": "Oo1GNKtH-e-o"
      },
      "execution_count": null,
      "outputs": [
        {
          "output_type": "stream",
          "name": "stderr",
          "text": [
            "/usr/local/lib/python3.10/dist-packages/sklearn/base.py:439: UserWarning: X does not have valid feature names, but LinearRegression was fitted with feature names\n",
            "  warnings.warn(\n"
          ]
        }
      ]
    },
    {
      "cell_type": "code",
      "source": [
        "parametersc3"
      ],
      "metadata": {
        "colab": {
          "base_uri": "https://localhost:8080/"
        },
        "outputId": "784da353-90f3-4b47-e9d2-97ba26ec633d",
        "id": "e_9Sy_0q-e-o"
      },
      "execution_count": null,
      "outputs": [
        {
          "output_type": "execute_result",
          "data": {
            "text/plain": [
              "array([[-319284.75538721],\n",
              "       [ -60484.74362896],\n",
              "       [    485.05227939],\n",
              "       [  18343.55169237]])"
            ]
          },
          "metadata": {},
          "execution_count": 41
        }
      ]
    },
    {
      "cell_type": "code",
      "source": [
        "model.coef_"
      ],
      "metadata": {
        "colab": {
          "base_uri": "https://localhost:8080/"
        },
        "outputId": "19aac9cb-aa9a-4af4-8968-c30a8be426ab",
        "id": "f3sSk_EJ-e-o"
      },
      "execution_count": null,
      "outputs": [
        {
          "output_type": "execute_result",
          "data": {
            "text/plain": [
              "array([[-60484.74362896,    485.05227939,  18343.55169237]])"
            ]
          },
          "metadata": {},
          "execution_count": 42
        }
      ]
    },
    {
      "cell_type": "code",
      "source": [
        "model.intercept_"
      ],
      "metadata": {
        "colab": {
          "base_uri": "https://localhost:8080/"
        },
        "outputId": "f2a4e08b-d073-4d7f-d109-ca034e7de841",
        "id": "r6qBu5W2-e-o"
      },
      "execution_count": null,
      "outputs": [
        {
          "output_type": "execute_result",
          "data": {
            "text/plain": [
              "array([-319284.75538721])"
            ]
          },
          "metadata": {},
          "execution_count": 43
        }
      ]
    },
    {
      "cell_type": "markdown",
      "source": [
        "Second model - Lasso regression"
      ],
      "metadata": {
        "id": "RkL1ukC4__gb"
      }
    },
    {
      "cell_type": "code",
      "source": [
        "from sklearn.model_selection import train_test_split\n",
        "from sklearn.linear_model import Lasso\n",
        "from sklearn.metrics import mean_squared_error\n",
        "\n",
        "# Assuming you have your dataset loaded into X and y\n",
        "\n",
        "# Splitting the dataset into training and testing sets\n",
        "X_train, X_test, y_train, y_test = train_test_split(xc3, yc3, test_size=0.2, random_state=42)\n",
        "\n",
        "# Creating a Lasso regression model\n",
        "alpha = 0.1  # Regularization strength, higher values specify stronger regularization\n",
        "model = Lasso(alpha=alpha)\n",
        "\n",
        "# Training the model\n",
        "model.fit(X_train, y_train)\n",
        "\n",
        "# Making predictions\n",
        "y_pred = model.predict(X_test)\n",
        "\n",
        "# Evaluating the model\n",
        "mse = mean_squared_error(y_test, y_pred)\n",
        "print(\"Mean Squared Error:\", mse)\n"
      ],
      "metadata": {
        "colab": {
          "base_uri": "https://localhost:8080/"
        },
        "outputId": "97176358-7cb9-47e5-e208-49e59eaf5045",
        "id": "MDJYxOSFAlgY"
      },
      "execution_count": null,
      "outputs": [
        {
          "output_type": "stream",
          "name": "stdout",
          "text": [
            "Mean Squared Error: 6453885653.479516\n"
          ]
        }
      ]
    },
    {
      "cell_type": "code",
      "source": [
        "model.coef_"
      ],
      "metadata": {
        "colab": {
          "base_uri": "https://localhost:8080/"
        },
        "outputId": "4a7a212f-1068-4a11-8d43-2d9fa0e1e449",
        "id": "uj-tBDOiAlgZ"
      },
      "execution_count": null,
      "outputs": [
        {
          "output_type": "execute_result",
          "data": {
            "text/plain": [
              "array([-60484.15335525,    485.0540036 ,  18340.63838076])"
            ]
          },
          "metadata": {},
          "execution_count": 45
        }
      ]
    },
    {
      "cell_type": "code",
      "source": [
        "model.intercept_"
      ],
      "metadata": {
        "colab": {
          "base_uri": "https://localhost:8080/"
        },
        "outputId": "2642eadd-609d-4405-edb8-5292cb557879",
        "id": "MpeCvCKqAlgZ"
      },
      "execution_count": null,
      "outputs": [
        {
          "output_type": "execute_result",
          "data": {
            "text/plain": [
              "array([-319281.58947383])"
            ]
          },
          "metadata": {},
          "execution_count": 46
        }
      ]
    },
    {
      "cell_type": "code",
      "source": [
        "parc1 = [[0,0,0],[1,0,0],[0,1,0],[0,0,1]]\n",
        "parametersc33 = model.predict(parc1)\n",
        "\n",
        "for i in range(1,4):\n",
        "  parametersc33[i] = parametersc33[i]-parametersc33[0]\n"
      ],
      "metadata": {
        "colab": {
          "base_uri": "https://localhost:8080/"
        },
        "outputId": "e6daf8c6-f3f0-43e7-a528-a742671e60fd",
        "id": "-6-yymL2Alga"
      },
      "execution_count": null,
      "outputs": [
        {
          "output_type": "stream",
          "name": "stderr",
          "text": [
            "/usr/local/lib/python3.10/dist-packages/sklearn/base.py:439: UserWarning: X does not have valid feature names, but Lasso was fitted with feature names\n",
            "  warnings.warn(\n"
          ]
        }
      ]
    },
    {
      "cell_type": "code",
      "source": [
        "parametersc33"
      ],
      "metadata": {
        "colab": {
          "base_uri": "https://localhost:8080/"
        },
        "outputId": "badea45b-7070-40b1-b7b7-9b781d881526",
        "id": "jt_CzjjyAlga"
      },
      "execution_count": null,
      "outputs": [
        {
          "output_type": "execute_result",
          "data": {
            "text/plain": [
              "array([-319281.58947383,  -60484.15335525,     485.0540036 ,\n",
              "         18340.63838076])"
            ]
          },
          "metadata": {},
          "execution_count": 48
        }
      ]
    },
    {
      "cell_type": "markdown",
      "source": [
        "Third model - KNN"
      ],
      "metadata": {
        "id": "lvb4vmMBA_0J"
      }
    },
    {
      "cell_type": "code",
      "source": [
        "from sklearn.model_selection import train_test_split\n",
        "from sklearn.neighbors import KNeighborsRegressor\n",
        "from sklearn.metrics import mean_absolute_percentage_error\n",
        "\n",
        "# Assuming you have your dataset loaded into X and y\n",
        "\n",
        "# Splitting the dataset into training and testing sets\n",
        "X_train, X_test, y_train, y_test = train_test_split(xc2, yc2, test_size=0.2, random_state=42)\n",
        "\n",
        "# Creating a KNN regression model\n",
        "n_neighbors = 5  # Number of neighbors to use\n",
        "model3 = KNeighborsRegressor(n_neighbors=n_neighbors)\n",
        "\n",
        "# Training the model\n",
        "model3.fit(X_train, y_train)\n",
        "\n",
        "# Making predictions\n",
        "y_pred = model3.predict(X_test)\n",
        "\n",
        "# Evaluating the model\n",
        "mae = mean_absolute_percentage_error(y_test, y_pred)\n",
        "print(\"mean_absolute_percentage_error\", mae)\n"
      ],
      "metadata": {
        "colab": {
          "base_uri": "https://localhost:8080/"
        },
        "outputId": "9c86aae4-3a88-4d10-b06b-455840db6825",
        "id": "vTjcADAOBEBh"
      },
      "execution_count": null,
      "outputs": [
        {
          "output_type": "stream",
          "name": "stdout",
          "text": [
            "mean_absolute_percentage_error 0.06153293275368824\n"
          ]
        }
      ]
    },
    {
      "cell_type": "markdown",
      "source": [
        "Aggregation Server"
      ],
      "metadata": {
        "id": "5QmKHY6EBGrp"
      }
    },
    {
      "cell_type": "markdown",
      "source": [
        "Aggregation Server for KNN"
      ],
      "metadata": {
        "id": "0CGk9_VJPpZg"
      }
    },
    {
      "cell_type": "code",
      "source": [
        "y_p1=model.predict(xc1)\n",
        "y_p1"
      ],
      "metadata": {
        "colab": {
          "base_uri": "https://localhost:8080/"
        },
        "id": "C0kTWcFKCOLH",
        "outputId": "7593e5ba-3674-4884-f7cd-086bd9a1ccfa"
      },
      "execution_count": null,
      "outputs": [
        {
          "output_type": "execute_result",
          "data": {
            "text/plain": [
              "array([270067.23452014, 252530.65275285, 317963.97064079, 483628.52695867,\n",
              "       506918.32987212, 208738.26157412, 445766.47343971, 372949.33406193,\n",
              "       575140.53774444, 545134.6164183 , 537828.10962691, 324325.85602625,\n",
              "        81171.91412668,  99748.70785893, 343374.96046147, 519251.31589466,\n",
              "       641005.40335806, 336540.76437304,  93582.21484766, 496079.59065695,\n",
              "       551064.95407809, 306534.8430469 ,  56860.17510884, 434219.26817008,\n",
              "       531466.22424145, 471413.61861188, 360852.50339088, 575494.77077167,\n",
              "       300132.19468415,  63340.13817004,  32979.98381667,  87651.87718788,\n",
              "       604596.83366916])"
            ]
          },
          "metadata": {},
          "execution_count": 63
        }
      ]
    },
    {
      "cell_type": "code",
      "source": [
        "y_p1 = model.predict(xc1);\n",
        "y_p2 = model2.predict(xc1);\n",
        "y_p3 = model3.predict(xc1);\n",
        "y_predict_final = [];\n",
        "for i in range(0,len(y_p1)):\n",
        "  temp=y_p1[i]+y_p2[i]+y_p3[i];\n",
        "  temp = temp/3;\n",
        "  y_predict_final.append(temp);"
      ],
      "metadata": {
        "id": "DvtoZn0ODj9a"
      },
      "execution_count": null,
      "outputs": []
    },
    {
      "cell_type": "code",
      "source": [
        "y_predict_final"
      ],
      "metadata": {
        "colab": {
          "base_uri": "https://localhost:8080/"
        },
        "id": "bPk4OVv1Cfv5",
        "outputId": "6982a2e5-8b4e-41f9-f083-b75f3ebb0dcb"
      },
      "execution_count": null,
      "outputs": [
        {
          "output_type": "execute_result",
          "data": {
            "text/plain": [
              "[array([311355.74484005]),\n",
              " array([370843.55091762]),\n",
              " array([285987.9902136]),\n",
              " array([575876.17565289]),\n",
              " array([479639.44329071]),\n",
              " array([229579.42052471]),\n",
              " array([397922.15781324]),\n",
              " array([345649.77802064]),\n",
              " array([613046.84591481]),\n",
              " array([603044.87213943]),\n",
              " array([577942.70320897]),\n",
              " array([309441.95200875]),\n",
              " array([187057.30470889]),\n",
              " array([193249.56928631]),\n",
              " array([411791.65348716]),\n",
              " array([499750.43863155]),\n",
              " array([632335.13445269]),\n",
              " array([313513.58812435]),\n",
              " array([191194.07161589]),\n",
              " array([586693.19688565]),\n",
              " array([605021.65135936]),\n",
              " array([343511.61434897]),\n",
              " array([178953.39170295]),\n",
              " array([451406.42272336]),\n",
              " array([535822.07474715]),\n",
              " array([555804.53953729]),\n",
              " array([341617.50113029]),\n",
              " array([613164.92359056]),\n",
              " array([301377.39822805]),\n",
              " array([181113.37939001]),\n",
              " array([170993.32793889]),\n",
              " array([189217.29239596]),\n",
              " array([612198.94455639])]"
            ]
          },
          "metadata": {},
          "execution_count": 71
        }
      ]
    },
    {
      "cell_type": "code",
      "source": [
        "mean_absolute_percentage_error(y_predict_final,yc1)"
      ],
      "metadata": {
        "colab": {
          "base_uri": "https://localhost:8080/"
        },
        "id": "o5XaNsUIGzy-",
        "outputId": "5e4c1b43-7d35-4404-fe17-5a4fd2f5bf93"
      },
      "execution_count": null,
      "outputs": [
        {
          "output_type": "execute_result",
          "data": {
            "text/plain": [
              "0.13083197865295623"
            ]
          },
          "metadata": {},
          "execution_count": 72
        }
      ]
    },
    {
      "cell_type": "markdown",
      "source": [
        "Aggregation Server for linear regression"
      ],
      "metadata": {
        "id": "8ESXW9FpHfeF"
      }
    },
    {
      "cell_type": "code",
      "source": [
        "aggregatedParameters = [];\n",
        "t1 = parametersc1[0][0]+parametersc2[0][0]+parametersc3[0][0];\n",
        "t1 = t1/3;\n",
        "aggregatedParameters.append(t1);\n",
        "t1 = parametersc1[1][0]+parametersc2[1][0]+parametersc3[1][0];\n",
        "t1 = t1/3;\n",
        "aggregatedParameters.append(t1);\n",
        "t1 = parametersc1[2][0]+parametersc2[2][0]+parametersc3[2][0];\n",
        "t1 = t1/3;\n",
        "aggregatedParameters.append(t1);\n",
        "t1 = parametersc1[3][0]+parametersc2[3][0]+parametersc3[3][0];\n",
        "t1 = t1/3;\n",
        "aggregatedParameters.append(t1);\n",
        "print(aggregatedParameters)\n"
      ],
      "metadata": {
        "colab": {
          "base_uri": "https://localhost:8080/"
        },
        "id": "eADEP3XMHiQN",
        "outputId": "ef1286c1-ce2e-4f43-9500-8b571ee52863"
      },
      "execution_count": null,
      "outputs": [
        {
          "output_type": "stream",
          "name": "stdout",
          "text": [
            "[-154292.50331113863, -17623.984646710527, 289.2598298963688, 17103.74150305551]\n"
          ]
        }
      ]
    },
    {
      "cell_type": "code",
      "source": [
        "def aggregatedModel(x):\n",
        "  finalOutput = [];\n",
        "  for i in range(0,len(x)):\n",
        "    temp = [];\n",
        "    t = aggregatedParameters[0]+aggregatedParameters[1]*x[i][0]+aggregatedParameters[2]*x[i][1]+aggregatedParameters[3]*x[i][2];\n",
        "    temp.append(t);\n",
        "    finalOutput.append(temp);\n",
        "  return finalOutput;"
      ],
      "metadata": {
        "id": "FMdpkQBXImoj"
      },
      "execution_count": null,
      "outputs": []
    },
    {
      "cell_type": "code",
      "source": [
        "y_a_pred = aggregatedModel(xc1.values);\n",
        "mean_absolute_percentage_error(y_a_pred,yc1)"
      ],
      "metadata": {
        "colab": {
          "base_uri": "https://localhost:8080/"
        },
        "id": "46KfxIImJ8al",
        "outputId": "816d5850-7c30-4fa4-e852-6f1d844b2e58"
      },
      "execution_count": null,
      "outputs": [
        {
          "output_type": "execute_result",
          "data": {
            "text/plain": [
              "0.09274003047236017"
            ]
          },
          "metadata": {},
          "execution_count": 54
        }
      ]
    },
    {
      "cell_type": "markdown",
      "source": [
        "Aggregation Server for Lasso Regression"
      ],
      "metadata": {
        "id": "wyMgeWqzQy4X"
      }
    },
    {
      "cell_type": "code",
      "source": [
        "aggregatedParameters = [];\n",
        "t1 = parametersc13[0]+parametersc23[0]+parametersc33[0];\n",
        "t1 = t1/3;\n",
        "aggregatedParameters.append(t1);\n",
        "t1 = parametersc13[1]+parametersc23[1]+parametersc33[1];\n",
        "t1 = t1/3;\n",
        "aggregatedParameters.append(t1);\n",
        "t1 = parametersc13[2]+parametersc23[2]+parametersc33[2];\n",
        "t1 = t1/3;\n",
        "aggregatedParameters.append(t1);\n",
        "t1 = parametersc13[3]+parametersc23[3]+parametersc33[3];\n",
        "t1 = t1/3;\n",
        "aggregatedParameters.append(t1);\n",
        "print(aggregatedParameters)\n"
      ],
      "metadata": {
        "colab": {
          "base_uri": "https://localhost:8080/"
        },
        "outputId": "015fc2b2-bdd6-407a-ea62-35c241a150f2",
        "id": "Ss5SR0r1Q3N5"
      },
      "execution_count": null,
      "outputs": [
        {
          "output_type": "stream",
          "name": "stdout",
          "text": [
            "[-154284.41968588412, -17832.044325955205, 287.05723711200943, 18656.811302047518]\n"
          ]
        }
      ]
    },
    {
      "cell_type": "code",
      "source": [
        "def aggregatedModel(x):\n",
        "  finalOutput = [];\n",
        "  for i in range(0,len(x)):\n",
        "    temp = [];\n",
        "    t = aggregatedParameters[0]+aggregatedParameters[1]*x[i][0]+aggregatedParameters[2]*x[i][1]+aggregatedParameters[3]*x[i][2];\n",
        "    temp.append(t);\n",
        "    finalOutput.append(temp);\n",
        "  return finalOutput;"
      ],
      "metadata": {
        "id": "ZhStJSSSQ3N6"
      },
      "execution_count": null,
      "outputs": []
    },
    {
      "cell_type": "code",
      "source": [
        "y_a_pred = aggregatedModel(xc1.values);\n",
        "mean_absolute_percentage_error(y_a_pred,yc1)"
      ],
      "metadata": {
        "colab": {
          "base_uri": "https://localhost:8080/"
        },
        "outputId": "5607b22e-273e-4725-dde4-ed400ac7c9e8",
        "id": "ThjPui3rQ3N7"
      },
      "execution_count": null,
      "outputs": [
        {
          "output_type": "execute_result",
          "data": {
            "text/plain": [
              "0.09322458350250001"
            ]
          },
          "metadata": {},
          "execution_count": 57
        }
      ]
    }
  ]
}